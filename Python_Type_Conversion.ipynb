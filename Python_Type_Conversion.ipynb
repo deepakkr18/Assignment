{
 "cells": [
  {
   "cell_type": "raw",
   "id": "68d55956-1f72-454d-85e2-ecf5d6e030d3",
   "metadata": {},
   "source": [
    "#qn.1 Covert a iteger to a floatig-poit umber."
   ]
  },
  {
   "cell_type": "code",
   "execution_count": 4,
   "id": "8d9c80a3-62c2-490e-8a65-6b808ce1dd90",
   "metadata": {},
   "outputs": [
    {
     "data": {
      "text/plain": [
       "1.0"
      ]
     },
     "execution_count": 4,
     "metadata": {},
     "output_type": "execute_result"
    }
   ],
   "source": [
    "a=1\n",
    "float(a)"
   ]
  },
  {
   "cell_type": "raw",
   "id": "a0981615-1457-405f-8763-a9cce1fa9147",
   "metadata": {},
   "source": [
    "#qn.2 Covert a float to a iteger."
   ]
  },
  {
   "cell_type": "code",
   "execution_count": 5,
   "id": "4aec5a8a-17d4-4b37-85a2-b46d80659d67",
   "metadata": {},
   "outputs": [
    {
     "data": {
      "text/plain": [
       "2"
      ]
     },
     "execution_count": 5,
     "metadata": {},
     "output_type": "execute_result"
    }
   ],
   "source": [
    "b=2.5\n",
    "int(b)"
   ]
  },
  {
   "cell_type": "raw",
   "id": "c4085ad0-b47e-4b56-aa3f-c5f913500275",
   "metadata": {},
   "source": [
    "#Qn.3 Covert a iteger to a string."
   ]
  },
  {
   "cell_type": "code",
   "execution_count": 7,
   "id": "b6fdb0c8-b21a-460b-a698-143b8ab7ddeb",
   "metadata": {},
   "outputs": [
    {
     "data": {
      "text/plain": [
       "'1'"
      ]
     },
     "execution_count": 7,
     "metadata": {},
     "output_type": "execute_result"
    }
   ],
   "source": [
    "a=1\n",
    "str(a)"
   ]
  },
  {
   "cell_type": "raw",
   "id": "645d2c04-2201-4c89-8ae7-49858f9888c5",
   "metadata": {},
   "source": [
    "#Qn.4  Covert a list to a tuple."
   ]
  },
  {
   "cell_type": "code",
   "execution_count": 9,
   "id": "4a6540ec-7313-4cb9-a38a-d13385b5a95c",
   "metadata": {},
   "outputs": [
    {
     "data": {
      "text/plain": [
       "(1, 2, 3, 4)"
      ]
     },
     "execution_count": 9,
     "metadata": {},
     "output_type": "execute_result"
    }
   ],
   "source": [
    "lst=[1,2,3,4]\n",
    "tuple(lst)"
   ]
  },
  {
   "cell_type": "raw",
   "id": "e1c62415-80ea-46dc-91d8-1d05e87e3afc",
   "metadata": {},
   "source": [
    "#qn.5 Covert a tuple to a list."
   ]
  },
  {
   "cell_type": "code",
   "execution_count": 2,
   "id": "4fd57b41-659a-496b-93c9-610bc2a5b1d7",
   "metadata": {},
   "outputs": [
    {
     "data": {
      "text/plain": [
       "[4, 5, 6, 7]"
      ]
     },
     "execution_count": 2,
     "metadata": {},
     "output_type": "execute_result"
    }
   ],
   "source": [
    "tup = (4, 5, 6, 7)\n",
    "list(tup)\n"
   ]
  },
  {
   "cell_type": "raw",
   "id": "f1cc403c-4c88-43c5-b793-4f27c6f996b5",
   "metadata": {},
   "source": [
    "#Qn.6 Covert a decimal umber to biary."
   ]
  },
  {
   "cell_type": "code",
   "execution_count": 6,
   "id": "c58b4791-36a4-423f-9d3a-d2c77df2aa91",
   "metadata": {},
   "outputs": [
    {
     "data": {
      "text/plain": [
       "'0b1'"
      ]
     },
     "execution_count": 6,
     "metadata": {},
     "output_type": "execute_result"
    }
   ],
   "source": [
    "dec=1\n",
    "bin(dec)"
   ]
  },
  {
   "cell_type": "raw",
   "id": "b9cbf412-bd0c-44b7-ac1f-6c3c696ff2e5",
   "metadata": {},
   "source": [
    "#qn.7 Covert a non-zero umber to boolea."
   ]
  },
  {
   "cell_type": "code",
   "execution_count": 7,
   "id": "e79cd1fb-bfc7-41e8-b904-3bfa831ac0a2",
   "metadata": {},
   "outputs": [
    {
     "data": {
      "text/plain": [
       "True"
      ]
     },
     "execution_count": 7,
     "metadata": {},
     "output_type": "execute_result"
    }
   ],
   "source": [
    "a=5\n",
    "bool(a)"
   ]
  }
 ],
 "metadata": {
  "kernelspec": {
   "display_name": "Python 3 (ipykernel)",
   "language": "python",
   "name": "python3"
  },
  "language_info": {
   "codemirror_mode": {
    "name": "ipython",
    "version": 3
   },
   "file_extension": ".py",
   "mimetype": "text/x-python",
   "name": "python",
   "nbconvert_exporter": "python",
   "pygments_lexer": "ipython3",
   "version": "3.10.8"
  }
 },
 "nbformat": 4,
 "nbformat_minor": 5
}

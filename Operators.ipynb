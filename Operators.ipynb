{
 "cells": [
  {
   "cell_type": "code",
   "execution_count": 5,
   "id": "0b68e101-f611-4668-a003-53031dc32213",
   "metadata": {},
   "outputs": [
    {
     "name": "stdin",
     "output_type": "stream",
     "text": [
      "Enter value 1:  5\n",
      "Enter value 2:  4\n"
     ]
    },
    {
     "name": "stdout",
     "output_type": "stream",
     "text": [
      "Sum : 9.0\n",
      "Difference : 1.0\n",
      "Product : 20.0\n",
      "Quotient : 1.25\n"
     ]
    }
   ],
   "source": [
    "def calc(num1,num2):\n",
    "    print(f\"Sum : {num1+num2}\")\n",
    "    print(f\"Difference : {num1-num2}\")\n",
    "    print(f\"Product : {num1*num2}\")\n",
    "    print(f\"Quotient : {num1/num2}\")\n",
    "num1=float(input(\"Enter value 1: \"))\n",
    "num2=float(input(\"Enter value 2: \"))\n",
    "\n",
    "calc(num1,num2)"
   ]
  },
  {
   "cell_type": "code",
   "execution_count": 9,
   "id": "e69d8d4f-93f3-48d4-8cd6-2ac970eca543",
   "metadata": {},
   "outputs": [
    {
     "name": "stdin",
     "output_type": "stream",
     "text": [
      "Enter value :  5\n"
     ]
    },
    {
     "name": "stdout",
     "output_type": "stream",
     "text": [
      "After addition assignment :  10.0\n",
      "After subtraction assignment :  7.0\n",
      "After multiplication assignment :  14.0\n",
      "After division assignment :  3.5\n"
     ]
    }
   ],
   "source": [
    "def assignment_op(num):\n",
    "    num += 5\n",
    "    print(\"After addition assignment : \", num)\n",
    "\n",
    "    num -= 3\n",
    "    print(\"After subtraction assignment : \", num)\n",
    "\n",
    "    # Multiplication assignment\n",
    "    num *= 2\n",
    "    print(\"After multiplication assignment : \", num)\n",
    "\n",
    "    # Division assignment\n",
    "    num/= 4\n",
    "    print(\"After division assignment : \", num)\n",
    "\n",
    "num=float(input(\"Enter value : \"))\n",
    "assignment_op(num)  "
   ]
  },
  {
   "cell_type": "code",
   "execution_count": 12,
   "id": "840b0edd-9684-4d3a-9119-a97c82cd6dde",
   "metadata": {},
   "outputs": [
    {
     "name": "stdin",
     "output_type": "stream",
     "text": [
      "Enter value 1:  8\n",
      "Enter value 2:  8\n"
     ]
    },
    {
     "data": {
      "text/plain": [
       "True"
      ]
     },
     "execution_count": 12,
     "metadata": {},
     "output_type": "execute_result"
    }
   ],
   "source": [
    "def compare(num1,num2):\n",
    "    if(num1==num2):\n",
    "        return True\n",
    "    else:\n",
    "        return False\n",
    "num1=float(input(\"Enter value 1: \"))\n",
    "num2=float(input(\"Enter value 2: \"))\n",
    "\n",
    "compare(num1,num2)"
   ]
  },
  {
   "cell_type": "code",
   "execution_count": 14,
   "id": "e46abd39-c446-4478-8075-d74f2bb92ae9",
   "metadata": {},
   "outputs": [
    {
     "name": "stdin",
     "output_type": "stream",
     "text": [
      "Enter value 1:  7\n",
      "Enter value 2:  -5\n"
     ]
    },
    {
     "data": {
      "text/plain": [
       "'num2 is negative,num1 is positive'"
      ]
     },
     "execution_count": 14,
     "metadata": {},
     "output_type": "execute_result"
    }
   ],
   "source": [
    "def logical(num1,num2):\n",
    "    if(num1>0 and num2>0):\n",
    "        return \"Both are positive\"\n",
    "    elif(num1>0 and num2<0):\n",
    "        return \"num2 is negative,num1 is positive\"\n",
    "    elif(num1<0 and num2>0):\n",
    "        return \"num1 is negative and num2 is positive\"\n",
    "num1=float(input(\"Enter value 1: \"))\n",
    "num2=float(input(\"Enter value 2: \"))\n",
    "logical(num1,num2)"
   ]
  },
  {
   "cell_type": "code",
   "execution_count": 15,
   "id": "177e6d58-cb68-4067-a098-bb10e5aae3e4",
   "metadata": {},
   "outputs": [
    {
     "name": "stdin",
     "output_type": "stream",
     "text": [
      "Enter value 1:  5\n",
      "Enter value 2:  6\n"
     ]
    },
    {
     "name": "stdout",
     "output_type": "stream",
     "text": [
      "num1 and num2 has different identity\n"
     ]
    }
   ],
   "source": [
    "def check_identity(num1,num2):\n",
    "    if(id(num1)==id(num2)):\n",
    "        print(\"num1 and num2 has same identity\")\n",
    "    else:\n",
    "        print(\"num1 and num2 has different identity\")\n",
    "num1=float(input(\"Enter value 1: \"))\n",
    "num2=float(input(\"Enter value 2: \"))\n",
    "check_identity(num1,num2)\n"
   ]
  },
  {
   "cell_type": "code",
   "execution_count": 23,
   "id": "33d958df-2370-4757-b0e7-bc2bc1123508",
   "metadata": {},
   "outputs": [
    {
     "name": "stdout",
     "output_type": "stream",
     "text": [
      "Bitwise AND: 4\n",
      "Bitwise OR: 15\n",
      "Bitwise XOR: 11\n",
      "Bitwise NOT of b: -13\n"
     ]
    }
   ],
   "source": [
    "def bitwise(a,b):\n",
    "    bitwise_and = a & b  \n",
    "    print(\"Bitwise AND:\", bitwise_and)\n",
    "\n",
    "    # Bitwise OR\n",
    "    bitwise_or = a | b   \n",
    "    print(\"Bitwise OR:\", bitwise_or)\n",
    "\n",
    "    # Bitwise XOR\n",
    "    bitwise_xor = a ^ b  \n",
    "    print(\"Bitwise XOR:\", bitwise_xor)\n",
    "\n",
    "    # Bitwise NOT (Unary)\n",
    "    bitwise_not_a = ~a  \n",
    "    print(\"Bitwise NOT of b:\", bitwise_not_a)\n",
    "\n",
    "a = 12  \n",
    "b = 7 \n",
    "bitwise(a,b)"
   ]
  },
  {
   "cell_type": "code",
   "execution_count": 21,
   "id": "ce735f1c-0667-4378-869e-16316381b1b0",
   "metadata": {},
   "outputs": [
    {
     "name": "stdin",
     "output_type": "stream",
     "text": [
      "Enter num :  5\n"
     ]
    },
    {
     "name": "stdout",
     "output_type": "stream",
     "text": [
      "Negative of 5 is -5\n"
     ]
    }
   ],
   "source": [
    "def unary(num):\n",
    "    print(f\"Negative of {num} is {-num}\")\n",
    "num=int(input(\"Enter num : \"))\n",
    "unary(num)"
   ]
  },
  {
   "cell_type": "code",
   "execution_count": 22,
   "id": "e5659463-0799-40ba-859a-3ab97d26ac0e",
   "metadata": {},
   "outputs": [
    {
     "data": {
      "text/plain": [
       "10"
      ]
     },
     "execution_count": 22,
     "metadata": {},
     "output_type": "execute_result"
    }
   ],
   "source": [
    "def ternary(a,b):\n",
    "    min = a if a < b else b\n",
    "    return min\n",
    "a, b = 10, 20\n",
    "ternary(a,b)"
   ]
  }
 ],
 "metadata": {
  "kernelspec": {
   "display_name": "Python 3 (ipykernel)",
   "language": "python",
   "name": "python3"
  },
  "language_info": {
   "codemirror_mode": {
    "name": "ipython",
    "version": 3
   },
   "file_extension": ".py",
   "mimetype": "text/x-python",
   "name": "python",
   "nbconvert_exporter": "python",
   "pygments_lexer": "ipython3",
   "version": "3.10.8"
  }
 },
 "nbformat": 4,
 "nbformat_minor": 5
}
